{
 "cells": [
  {
   "cell_type": "markdown",
   "metadata": {},
   "source": [
    "# AVTORJI"
   ]
  },
  {
   "cell_type": "markdown",
   "metadata": {},
   "source": [
    "- Nik Turk\n",
    "- Andrej Pavlovčič\n",
    "- Miha Štravs\n",
    "- Tobias Mihelčič"
   ]
  },
  {
   "cell_type": "markdown",
   "metadata": {},
   "source": [
    "# IZBOR PODATKOVNE MNOŽICE"
   ]
  },
  {
   "cell_type": "markdown",
   "metadata": {},
   "source": [
    "Za projektno nalogo pri Podatkovnem Rudarjenju FRI Ljubljana smo si izbrali pridobivanje podatkov iz množice terorističnih napadov. Naša množica vsebuje več kot 180.000 podatkov o napadih med leti 1970 in 2017."
   ]
  },
  {
   "cell_type": "markdown",
   "metadata": {},
   "source": [
    "# OBLIKA PODATKOV"
   ]
  },
  {
   "cell_type": "markdown",
   "metadata": {},
   "source": [
    "Zbirka podatkov iz Kaggla, ki jo bomo uporabili vsebuje 180.000 vrstic podatkov. Vsaka vrstica ima 150 stolpcev. Večina stolpcev nima večje uporabnosti, zato smo že pred uporabo množice zožali nabor stolpcev na najbolj pomembnih 25. Ravno tako je bilo potrebno v podatkih nadomestiti znake '#', '-', in ',' saj motijo funkcijo loadtxt. Ločilo med podatki pa je znak '|'."
   ]
  },
  {
   "cell_type": "markdown",
   "metadata": {},
   "source": [
    "Pomembnejši stolpci (ne pa tudi vsi, ki smi jih prenesli):\n",
    "\n",
    " - Datum napada (predvsem mesec in leto)\n",
    " - Država napada\n",
    " - Zemljepisna globina in širina\n",
    " - Število ubitih in ranjenih ljudi\n",
    " - Denarna škoda v USD"
   ]
  },
  {
   "cell_type": "markdown",
   "metadata": {},
   "source": [
    "# NAŠA VPRAŠANJA IN CILJI"
   ]
  },
  {
   "cell_type": "markdown",
   "metadata": {},
   "source": [
    " - Katere države so najbolj podrejene terorističnim napadom?\n",
    " - V katerih letih se je zgodilo največ napadov? Oziroma njegov trend.\n",
    " - Delež uspešnih in neuspešnih napadov\n",
    " - Število napadov po mesecih\n",
    " - Predstavitev pogostosti napadov po zemljevidu\n",
    " - Vrste orožja za napade"
   ]
  },
  {
   "cell_type": "markdown",
   "metadata": {},
   "source": [
    "# PREGLED OSNOVNIH PODATKOV IN RELEVANTNOSTI"
   ]
  },
  {
   "cell_type": "markdown",
   "metadata": {},
   "source": [
    "Najprej si oglejmo število napadov po letih. Ugotovimo, da je bilo število napadov pred letom 2001 (to je pred napadom 11. septembra 2001) sorazmerno nizko. Nato pa se je število napadov močno povečalo (sicer ne takoj, ampak rezultati vojne proti terorizmu s strani ZDA so vidni) "
   ]
  },
  {
   "cell_type": "markdown",
   "metadata": {},
   "source": [
    "![attacks per year](pictures/graf1.png)"
   ]
  },
  {
   "cell_type": "markdown",
   "metadata": {},
   "source": [
    "Ta graf ne prikazuje nobenih trendov. Prikazuje ravno nasprotno od pričakovanega, saj je decembra najmanj napadov (takrat bi pričakoval da teroristi največkrat sejejo teror, ker je takrat ljudi najlažje ustrahovati). Število napadov po mesecih. "
   ]
  },
  {
   "cell_type": "markdown",
   "metadata": {},
   "source": [
    "![število napadov po mesecih](pictures/graf3.png)"
   ]
  },
  {
   "cell_type": "markdown",
   "metadata": {},
   "source": [
    "Ta graf predstavlja število uspešnih in število neuspešnih napadov za 20 najbolj pogosto napadenih držav.\n",
    "Kot lahko opazimo je Irak daleč pred vsemi po številu napadov. Več kot 90% napadov je uspešnih."
   ]
  },
  {
   "cell_type": "markdown",
   "metadata": {},
   "source": [
    "![uspesni/neuspesni top 20](pictures/graf2.png)"
   ]
  },
  {
   "cell_type": "markdown",
   "metadata": {},
   "source": [
    "Ugotovili smo, da bi bilo napade smiselno razvrstiti v različna obdobja in sicer:\n",
    "1. OBDOBJE = 1970 do 1978 (do islamske revolucije)\n",
    "2. OBDOBJE = 1979 do 1988 (islamska revolucija do ustanovitve al kajde)\n",
    "3. OBDOBJE = 1989 do 1997 (ustanovitev al kajde do manifesta al kajde) \n",
    "              - Osama Bin Laden javno na CNNju napove vojno ZDA\n",
    "              - Napadi na WTC s strani islamskim skrajnežev leta 1993\n",
    "              - Napad na podzemno železnico v Tokiju leta 1995\n",
    "4. OBDOBJE = 1998 do 2005 (obdobje \"miru\")\n",
    "              - Najbrž zaradi tega al kajda izvede manjše število večjih napadov (z več žrtvami)\n",
    "              - Vsi ostali napadi, ki se zgodijo v tem obdobju v Evropi ali ZDA so zelo odmevni\n",
    "                (kljub temu da ni veliko napadov), saj se dogajajo v \"civiliziranem svetu\"\n",
    "              - Najbolj znan napad v tem obdobju je t.i. \"9/11\", ki je bil izveden leta 2001\n",
    "5. OBDOBJE = 2006 do 2017 (rezultat vojne proti terorizmu/islamski veri s strani ZDA)\n",
    "               - Zelo odmevni napadi predvsem Mumbai napadi leta 2008 v hotelih ter 2011 norveški skrajnež Breivik\n",
    "               \n",
    "\n",
    "Nato smo za vsako obdobje prikazali razmerje uspešno proti neuspešnimi napadi za 10 najbolj napadenih držav v obdobju."
   ]
  },
  {
   "cell_type": "markdown",
   "metadata": {},
   "source": [
    "![uspesni_neuspesni](pictures/graf7.png)"
   ]
  },
  {
   "cell_type": "markdown",
   "metadata": {},
   "source": [
    "Spodnji grafi ravno tako po obdobjih prikazujejo število žrtev. Zanimivo je, da je vse od leta 1998 največ žrtev v Iraku "
   ]
  },
  {
   "cell_type": "markdown",
   "metadata": {},
   "source": [
    "![število mrtvih po državah](pictures/graf8.png)"
   ]
  },
  {
   "cell_type": "markdown",
   "metadata": {},
   "source": [
    "![zemljevid napadov](pictures/graf5.png)"
   ]
  },
  {
   "cell_type": "markdown",
   "metadata": {},
   "source": [
    "Za napovedovanje število napadov za naslednjih 5 let smo podatke razdelili na testno in učno množico \n",
    "in sicer v razmerju 75% - 25%. Naš model je napovedal, da naj bi število napadov v letošnjem letu še malo padlo, naslednja\n",
    "leta pa bo začelo ponovno naraščati. Zavedamo pa se da je napovedovanje število napadov zelo težko, saj je odvisno od različnih\n",
    "dejavnikov."
   ]
  },
  {
   "cell_type": "markdown",
   "metadata": {},
   "source": [
    "![napoved_napadov](pictures/graf6.png)"
   ]
  },
  {
   "cell_type": "markdown",
   "metadata": {},
   "source": [
    "Stvar, ki nas je tudi zanimala pa je za kakšna orožja so se odločali oziroma se trenutno odločajo napadalci. Spodnji graf prikazuje, da so zdaleč najbolj priljubljena eksplozivna orožja"
   ]
  },
  {
   "cell_type": "markdown",
   "metadata": {},
   "source": [
    "![napoved_napadov](pictures/graf9.png)"
   ]
  },
  {
   "cell_type": "markdown",
   "metadata": {},
   "source": [
    "Na tem grafu, je večje število napadov na določenem območju predstavljeno z večjim krogom. 3 različne barve pa pomenijo število žrtev v napadih (zelena, rumena, rdeča).\n",
    "Opazimo kar nekaj kriznih območij. Še posebej na območju srednjega vzhoda."
   ]
  },
  {
   "cell_type": "code",
   "execution_count": null,
   "metadata": {},
   "outputs": [],
   "source": []
  },
  {
   "cell_type": "markdown",
   "metadata": {},
   "source": [
    "![zemljevid napadov_animacija](pictures/graf10.gif)"
   ]
  }
 ],
 "metadata": {
  "kernelspec": {
   "display_name": "Python 3",
   "language": "python",
   "name": "python3"
  },
  "language_info": {
   "codemirror_mode": {
    "name": "ipython",
    "version": 3
   },
   "file_extension": ".py",
   "mimetype": "text/x-python",
   "name": "python",
   "nbconvert_exporter": "python",
   "pygments_lexer": "ipython3",
   "version": "3.7.1"
  }
 },
 "nbformat": 4,
 "nbformat_minor": 2
}
